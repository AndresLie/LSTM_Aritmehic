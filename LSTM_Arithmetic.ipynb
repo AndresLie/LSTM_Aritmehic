{
  "cells": [
    {
      "cell_type": "markdown",
      "id": "73f2a2d0",
      "metadata": {
        "id": "73f2a2d0"
      },
      "source": [
        "\n",
        "\n",
        "# LSTM-arithmetic\n",
        "\n",
        "## Dataset\n",
        "- [Arithmetic dataset](https://drive.google.com/file/d/1cMuL3hF9jefka9RyF4gEBIGGeFGZYHE-/view?usp=sharing)"
      ]
    },
    {
      "cell_type": "code",
      "execution_count": null,
      "id": "7a4c06dd",
      "metadata": {
        "colab": {
          "base_uri": "https://localhost:8080/"
        },
        "id": "7a4c06dd",
        "outputId": "dc402252-2f45-4f5a-9b57-9cf87eba9fd1"
      },
      "outputs": [
        {
          "output_type": "stream",
          "name": "stdout",
          "text": [
            "Requirement already satisfied: seaborn in /usr/local/lib/python3.10/dist-packages (0.13.2)\n",
            "Requirement already satisfied: numpy!=1.24.0,>=1.20 in /usr/local/lib/python3.10/dist-packages (from seaborn) (1.26.4)\n",
            "Requirement already satisfied: pandas>=1.2 in /usr/local/lib/python3.10/dist-packages (from seaborn) (2.2.2)\n",
            "Requirement already satisfied: matplotlib!=3.6.1,>=3.4 in /usr/local/lib/python3.10/dist-packages (from seaborn) (3.8.0)\n",
            "Requirement already satisfied: contourpy>=1.0.1 in /usr/local/lib/python3.10/dist-packages (from matplotlib!=3.6.1,>=3.4->seaborn) (1.3.1)\n",
            "Requirement already satisfied: cycler>=0.10 in /usr/local/lib/python3.10/dist-packages (from matplotlib!=3.6.1,>=3.4->seaborn) (0.12.1)\n",
            "Requirement already satisfied: fonttools>=4.22.0 in /usr/local/lib/python3.10/dist-packages (from matplotlib!=3.6.1,>=3.4->seaborn) (4.55.3)\n",
            "Requirement already satisfied: kiwisolver>=1.0.1 in /usr/local/lib/python3.10/dist-packages (from matplotlib!=3.6.1,>=3.4->seaborn) (1.4.7)\n",
            "Requirement already satisfied: packaging>=20.0 in /usr/local/lib/python3.10/dist-packages (from matplotlib!=3.6.1,>=3.4->seaborn) (24.2)\n",
            "Requirement already satisfied: pillow>=6.2.0 in /usr/local/lib/python3.10/dist-packages (from matplotlib!=3.6.1,>=3.4->seaborn) (11.0.0)\n",
            "Requirement already satisfied: pyparsing>=2.3.1 in /usr/local/lib/python3.10/dist-packages (from matplotlib!=3.6.1,>=3.4->seaborn) (3.2.0)\n",
            "Requirement already satisfied: python-dateutil>=2.7 in /usr/local/lib/python3.10/dist-packages (from matplotlib!=3.6.1,>=3.4->seaborn) (2.8.2)\n",
            "Requirement already satisfied: pytz>=2020.1 in /usr/local/lib/python3.10/dist-packages (from pandas>=1.2->seaborn) (2024.2)\n",
            "Requirement already satisfied: tzdata>=2022.7 in /usr/local/lib/python3.10/dist-packages (from pandas>=1.2->seaborn) (2024.2)\n",
            "Requirement already satisfied: six>=1.5 in /usr/local/lib/python3.10/dist-packages (from python-dateutil>=2.7->matplotlib!=3.6.1,>=3.4->seaborn) (1.17.0)\n",
            "Requirement already satisfied: opencc in /usr/local/lib/python3.10/dist-packages (1.1.9)\n",
            "Requirement already satisfied: scikit-learn in /usr/local/lib/python3.10/dist-packages (1.6.0)\n",
            "Requirement already satisfied: numpy>=1.19.5 in /usr/local/lib/python3.10/dist-packages (from scikit-learn) (1.26.4)\n",
            "Requirement already satisfied: scipy>=1.6.0 in /usr/local/lib/python3.10/dist-packages (from scikit-learn) (1.13.1)\n",
            "Requirement already satisfied: joblib>=1.2.0 in /usr/local/lib/python3.10/dist-packages (from scikit-learn) (1.4.2)\n",
            "Requirement already satisfied: threadpoolctl>=3.1.0 in /usr/local/lib/python3.10/dist-packages (from scikit-learn) (3.5.0)\n"
          ]
        }
      ],
      "source": [
        "! pip install seaborn\n",
        "! pip install opencc\n",
        "! pip install -U scikit-learn"
      ]
    },
    {
      "cell_type": "code",
      "execution_count": null,
      "id": "84250bb9",
      "metadata": {
        "id": "84250bb9"
      },
      "outputs": [],
      "source": [
        "import numpy as np\n",
        "import pandas as pd\n",
        "import torch\n",
        "import torch.nn\n",
        "import torch.nn.utils.rnn\n",
        "import torch.utils.data\n",
        "import matplotlib.pyplot as plt\n",
        "import seaborn as sns\n",
        "import opencc\n",
        "import os\n",
        "from sklearn.model_selection import train_test_split"
      ]
    },
    {
      "cell_type": "code",
      "execution_count": null,
      "id": "3a16ef9d",
      "metadata": {
        "id": "3a16ef9d"
      },
      "outputs": [],
      "source": [
        "data_path = './data'"
      ]
    },
    {
      "cell_type": "code",
      "execution_count": null,
      "id": "17f11f61",
      "metadata": {
        "colab": {
          "base_uri": "https://localhost:8080/"
        },
        "id": "17f11f61",
        "outputId": "06a553bb-3efc-4ece-cee4-33710f2c115e"
      },
      "outputs": [
        {
          "output_type": "stream",
          "name": "stdout",
          "text": [
            "Drive already mounted at /content/drive; to attempt to forcibly remount, call drive.mount(\"/content/drive\", force_remount=True).\n",
            "'234201526 (1).docx'\t 'Colab Notebooks'   NLP\t      Untitled\n",
            " arc2025.pdf\t\t  docker.txt\t     Paspor.pdf       推薦信_盧老師_中.docx\n",
            " AsposePrintServlet.pdf   HW8\t\t     Passbook.pdf     研究所申請\n",
            " Autobio-zh.gdoc\t  Kasih.apk\t    'Project Video'   資訊系畢業審查表-109入學.docx\n"
          ]
        }
      ],
      "source": [
        "from google.colab import drive\n",
        "drive.mount('/content/drive')\n",
        "!ls /content/drive/MyDrive\n",
        "import os\n",
        "drive_path = '/content/drive/MyDrive/NLP/HW2'\n",
        "os.chdir(drive_path)"
      ]
    },
    {
      "cell_type": "code",
      "execution_count": null,
      "id": "67696582",
      "metadata": {
        "id": "67696582"
      },
      "outputs": [],
      "source": [
        "import numpy as np\n",
        "import pandas as pd\n",
        "import torch\n",
        "import matplotlib\n",
        "import seaborn as sns\n",
        "import opencc\n",
        "import sklearn\n",
        "import tqdm"
      ]
    },
    {
      "cell_type": "code",
      "execution_count": null,
      "id": "dfde7ac5",
      "metadata": {
        "colab": {
          "base_uri": "https://localhost:8080/"
        },
        "id": "dfde7ac5",
        "outputId": "2910e211-5c8d-479c-f608-e8e1386d87dc"
      },
      "outputs": [
        {
          "output_type": "stream",
          "name": "stdout",
          "text": [
            "numpy==1.26.4\n",
            "pandas==2.2.2\n",
            "torch==2.5.1+cu121\n",
            "matplotlib==3.8.0\n",
            "seaborn==0.13.2\n",
            "opencc==1.1.9\n",
            "scikit-learn==1.6.0\n",
            "tqdm==4.67.1\n"
          ]
        }
      ],
      "source": [
        "print(f\"numpy=={np.__version__}\")\n",
        "print(f\"pandas=={pd.__version__}\")\n",
        "print(f\"torch=={torch.__version__}\")\n",
        "print(f\"matplotlib=={matplotlib.__version__}\")\n",
        "print(f\"seaborn=={sns.__version__}\")\n",
        "print(f\"opencc=={opencc.__version__}\")\n",
        "print(f\"scikit-learn=={sklearn.__version__}\")\n",
        "print(f\"tqdm=={tqdm.__version__}\")"
      ]
    },
    {
      "cell_type": "code",
      "execution_count": null,
      "id": "56cf2956",
      "metadata": {
        "colab": {
          "base_uri": "https://localhost:8080/",
          "height": 310
        },
        "id": "56cf2956",
        "outputId": "ec8210a3-dacc-46e2-af55-1f1490e19724"
      },
      "outputs": [
        {
          "output_type": "stream",
          "name": "stdout",
          "text": [
            "   Unnamed: 0          src  tgt\n",
            "0     2573208    48+43+34=  125\n",
            "1     1630340  30-(48+13)=  -31\n",
            "2      549277  (21*31)+10=  661\n",
            "3      133957     2-27-10=  -35\n",
            "4     1279828  (15*20)+24=  324\n"
          ]
        },
        {
          "output_type": "execute_result",
          "data": {
            "text/plain": [
              "   Unnamed: 0          src   tgt\n",
              "0     2285313  14*(43+20)=   882\n",
              "1      317061     (6+1)*5=    35\n",
              "2      718770    13+32+29=    74\n",
              "3      170195   31*(3-11)=  -248\n",
              "4     2581417     24*49+1=  1177"
            ],
            "text/html": [
              "\n",
              "  <div id=\"df-09ed0e77-033f-4ad9-b360-18dc9e94ebb2\" class=\"colab-df-container\">\n",
              "    <div>\n",
              "<style scoped>\n",
              "    .dataframe tbody tr th:only-of-type {\n",
              "        vertical-align: middle;\n",
              "    }\n",
              "\n",
              "    .dataframe tbody tr th {\n",
              "        vertical-align: top;\n",
              "    }\n",
              "\n",
              "    .dataframe thead th {\n",
              "        text-align: right;\n",
              "    }\n",
              "</style>\n",
              "<table border=\"1\" class=\"dataframe\">\n",
              "  <thead>\n",
              "    <tr style=\"text-align: right;\">\n",
              "      <th></th>\n",
              "      <th>Unnamed: 0</th>\n",
              "      <th>src</th>\n",
              "      <th>tgt</th>\n",
              "    </tr>\n",
              "  </thead>\n",
              "  <tbody>\n",
              "    <tr>\n",
              "      <th>0</th>\n",
              "      <td>2285313</td>\n",
              "      <td>14*(43+20)=</td>\n",
              "      <td>882</td>\n",
              "    </tr>\n",
              "    <tr>\n",
              "      <th>1</th>\n",
              "      <td>317061</td>\n",
              "      <td>(6+1)*5=</td>\n",
              "      <td>35</td>\n",
              "    </tr>\n",
              "    <tr>\n",
              "      <th>2</th>\n",
              "      <td>718770</td>\n",
              "      <td>13+32+29=</td>\n",
              "      <td>74</td>\n",
              "    </tr>\n",
              "    <tr>\n",
              "      <th>3</th>\n",
              "      <td>170195</td>\n",
              "      <td>31*(3-11)=</td>\n",
              "      <td>-248</td>\n",
              "    </tr>\n",
              "    <tr>\n",
              "      <th>4</th>\n",
              "      <td>2581417</td>\n",
              "      <td>24*49+1=</td>\n",
              "      <td>1177</td>\n",
              "    </tr>\n",
              "  </tbody>\n",
              "</table>\n",
              "</div>\n",
              "    <div class=\"colab-df-buttons\">\n",
              "\n",
              "  <div class=\"colab-df-container\">\n",
              "    <button class=\"colab-df-convert\" onclick=\"convertToInteractive('df-09ed0e77-033f-4ad9-b360-18dc9e94ebb2')\"\n",
              "            title=\"Convert this dataframe to an interactive table.\"\n",
              "            style=\"display:none;\">\n",
              "\n",
              "  <svg xmlns=\"http://www.w3.org/2000/svg\" height=\"24px\" viewBox=\"0 -960 960 960\">\n",
              "    <path d=\"M120-120v-720h720v720H120Zm60-500h600v-160H180v160Zm220 220h160v-160H400v160Zm0 220h160v-160H400v160ZM180-400h160v-160H180v160Zm440 0h160v-160H620v160ZM180-180h160v-160H180v160Zm440 0h160v-160H620v160Z\"/>\n",
              "  </svg>\n",
              "    </button>\n",
              "\n",
              "  <style>\n",
              "    .colab-df-container {\n",
              "      display:flex;\n",
              "      gap: 12px;\n",
              "    }\n",
              "\n",
              "    .colab-df-convert {\n",
              "      background-color: #E8F0FE;\n",
              "      border: none;\n",
              "      border-radius: 50%;\n",
              "      cursor: pointer;\n",
              "      display: none;\n",
              "      fill: #1967D2;\n",
              "      height: 32px;\n",
              "      padding: 0 0 0 0;\n",
              "      width: 32px;\n",
              "    }\n",
              "\n",
              "    .colab-df-convert:hover {\n",
              "      background-color: #E2EBFA;\n",
              "      box-shadow: 0px 1px 2px rgba(60, 64, 67, 0.3), 0px 1px 3px 1px rgba(60, 64, 67, 0.15);\n",
              "      fill: #174EA6;\n",
              "    }\n",
              "\n",
              "    .colab-df-buttons div {\n",
              "      margin-bottom: 4px;\n",
              "    }\n",
              "\n",
              "    [theme=dark] .colab-df-convert {\n",
              "      background-color: #3B4455;\n",
              "      fill: #D2E3FC;\n",
              "    }\n",
              "\n",
              "    [theme=dark] .colab-df-convert:hover {\n",
              "      background-color: #434B5C;\n",
              "      box-shadow: 0px 1px 3px 1px rgba(0, 0, 0, 0.15);\n",
              "      filter: drop-shadow(0px 1px 2px rgba(0, 0, 0, 0.3));\n",
              "      fill: #FFFFFF;\n",
              "    }\n",
              "  </style>\n",
              "\n",
              "    <script>\n",
              "      const buttonEl =\n",
              "        document.querySelector('#df-09ed0e77-033f-4ad9-b360-18dc9e94ebb2 button.colab-df-convert');\n",
              "      buttonEl.style.display =\n",
              "        google.colab.kernel.accessAllowed ? 'block' : 'none';\n",
              "\n",
              "      async function convertToInteractive(key) {\n",
              "        const element = document.querySelector('#df-09ed0e77-033f-4ad9-b360-18dc9e94ebb2');\n",
              "        const dataTable =\n",
              "          await google.colab.kernel.invokeFunction('convertToInteractive',\n",
              "                                                    [key], {});\n",
              "        if (!dataTable) return;\n",
              "\n",
              "        const docLinkHtml = 'Like what you see? Visit the ' +\n",
              "          '<a target=\"_blank\" href=https://colab.research.google.com/notebooks/data_table.ipynb>data table notebook</a>'\n",
              "          + ' to learn more about interactive tables.';\n",
              "        element.innerHTML = '';\n",
              "        dataTable['output_type'] = 'display_data';\n",
              "        await google.colab.output.renderOutput(dataTable, element);\n",
              "        const docLink = document.createElement('div');\n",
              "        docLink.innerHTML = docLinkHtml;\n",
              "        element.appendChild(docLink);\n",
              "      }\n",
              "    </script>\n",
              "  </div>\n",
              "\n",
              "\n",
              "<div id=\"df-eb186001-6e74-4154-96cd-925559970c35\">\n",
              "  <button class=\"colab-df-quickchart\" onclick=\"quickchart('df-eb186001-6e74-4154-96cd-925559970c35')\"\n",
              "            title=\"Suggest charts\"\n",
              "            style=\"display:none;\">\n",
              "\n",
              "<svg xmlns=\"http://www.w3.org/2000/svg\" height=\"24px\"viewBox=\"0 0 24 24\"\n",
              "     width=\"24px\">\n",
              "    <g>\n",
              "        <path d=\"M19 3H5c-1.1 0-2 .9-2 2v14c0 1.1.9 2 2 2h14c1.1 0 2-.9 2-2V5c0-1.1-.9-2-2-2zM9 17H7v-7h2v7zm4 0h-2V7h2v10zm4 0h-2v-4h2v4z\"/>\n",
              "    </g>\n",
              "</svg>\n",
              "  </button>\n",
              "\n",
              "<style>\n",
              "  .colab-df-quickchart {\n",
              "      --bg-color: #E8F0FE;\n",
              "      --fill-color: #1967D2;\n",
              "      --hover-bg-color: #E2EBFA;\n",
              "      --hover-fill-color: #174EA6;\n",
              "      --disabled-fill-color: #AAA;\n",
              "      --disabled-bg-color: #DDD;\n",
              "  }\n",
              "\n",
              "  [theme=dark] .colab-df-quickchart {\n",
              "      --bg-color: #3B4455;\n",
              "      --fill-color: #D2E3FC;\n",
              "      --hover-bg-color: #434B5C;\n",
              "      --hover-fill-color: #FFFFFF;\n",
              "      --disabled-bg-color: #3B4455;\n",
              "      --disabled-fill-color: #666;\n",
              "  }\n",
              "\n",
              "  .colab-df-quickchart {\n",
              "    background-color: var(--bg-color);\n",
              "    border: none;\n",
              "    border-radius: 50%;\n",
              "    cursor: pointer;\n",
              "    display: none;\n",
              "    fill: var(--fill-color);\n",
              "    height: 32px;\n",
              "    padding: 0;\n",
              "    width: 32px;\n",
              "  }\n",
              "\n",
              "  .colab-df-quickchart:hover {\n",
              "    background-color: var(--hover-bg-color);\n",
              "    box-shadow: 0 1px 2px rgba(60, 64, 67, 0.3), 0 1px 3px 1px rgba(60, 64, 67, 0.15);\n",
              "    fill: var(--button-hover-fill-color);\n",
              "  }\n",
              "\n",
              "  .colab-df-quickchart-complete:disabled,\n",
              "  .colab-df-quickchart-complete:disabled:hover {\n",
              "    background-color: var(--disabled-bg-color);\n",
              "    fill: var(--disabled-fill-color);\n",
              "    box-shadow: none;\n",
              "  }\n",
              "\n",
              "  .colab-df-spinner {\n",
              "    border: 2px solid var(--fill-color);\n",
              "    border-color: transparent;\n",
              "    border-bottom-color: var(--fill-color);\n",
              "    animation:\n",
              "      spin 1s steps(1) infinite;\n",
              "  }\n",
              "\n",
              "  @keyframes spin {\n",
              "    0% {\n",
              "      border-color: transparent;\n",
              "      border-bottom-color: var(--fill-color);\n",
              "      border-left-color: var(--fill-color);\n",
              "    }\n",
              "    20% {\n",
              "      border-color: transparent;\n",
              "      border-left-color: var(--fill-color);\n",
              "      border-top-color: var(--fill-color);\n",
              "    }\n",
              "    30% {\n",
              "      border-color: transparent;\n",
              "      border-left-color: var(--fill-color);\n",
              "      border-top-color: var(--fill-color);\n",
              "      border-right-color: var(--fill-color);\n",
              "    }\n",
              "    40% {\n",
              "      border-color: transparent;\n",
              "      border-right-color: var(--fill-color);\n",
              "      border-top-color: var(--fill-color);\n",
              "    }\n",
              "    60% {\n",
              "      border-color: transparent;\n",
              "      border-right-color: var(--fill-color);\n",
              "    }\n",
              "    80% {\n",
              "      border-color: transparent;\n",
              "      border-right-color: var(--fill-color);\n",
              "      border-bottom-color: var(--fill-color);\n",
              "    }\n",
              "    90% {\n",
              "      border-color: transparent;\n",
              "      border-bottom-color: var(--fill-color);\n",
              "    }\n",
              "  }\n",
              "</style>\n",
              "\n",
              "  <script>\n",
              "    async function quickchart(key) {\n",
              "      const quickchartButtonEl =\n",
              "        document.querySelector('#' + key + ' button');\n",
              "      quickchartButtonEl.disabled = true;  // To prevent multiple clicks.\n",
              "      quickchartButtonEl.classList.add('colab-df-spinner');\n",
              "      try {\n",
              "        const charts = await google.colab.kernel.invokeFunction(\n",
              "            'suggestCharts', [key], {});\n",
              "      } catch (error) {\n",
              "        console.error('Error during call to suggestCharts:', error);\n",
              "      }\n",
              "      quickchartButtonEl.classList.remove('colab-df-spinner');\n",
              "      quickchartButtonEl.classList.add('colab-df-quickchart-complete');\n",
              "    }\n",
              "    (() => {\n",
              "      let quickchartButtonEl =\n",
              "        document.querySelector('#df-eb186001-6e74-4154-96cd-925559970c35 button');\n",
              "      quickchartButtonEl.style.display =\n",
              "        google.colab.kernel.accessAllowed ? 'block' : 'none';\n",
              "    })();\n",
              "  </script>\n",
              "</div>\n",
              "\n",
              "    </div>\n",
              "  </div>\n"
            ],
            "application/vnd.google.colaboratory.intrinsic+json": {
              "type": "dataframe",
              "variable_name": "df_train"
            }
          },
          "metadata": {},
          "execution_count": 7
        }
      ],
      "source": [
        "df_train = pd.read_csv(os.path.join(data_path, 'arithmetic_train.csv'))\n",
        "df_eval = pd.read_csv(os.path.join(data_path, 'arithmetic_eval.csv'))\n",
        "print(df_eval.head())\n",
        "df_train.head()"
      ]
    },
    {
      "cell_type": "code",
      "execution_count": null,
      "id": "4d8144fa",
      "metadata": {
        "id": "4d8144fa"
      },
      "outputs": [],
      "source": [
        "# transform the input data to string\n",
        "df_train['tgt'] = df_train['tgt'].apply(lambda x: str(x))\n",
        "df_train['len'] = df_train['src'].apply(lambda x: len(x))"
      ]
    },
    {
      "cell_type": "code",
      "execution_count": null,
      "id": "16b27f40",
      "metadata": {
        "id": "16b27f40"
      },
      "outputs": [],
      "source": [
        "df_eval['tgt'] = df_eval['tgt'].apply(lambda x: str(x))\n",
        "df_eval['len'] = df_eval['src'].apply(lambda x: len(x))"
      ]
    },
    {
      "cell_type": "markdown",
      "id": "e331cbbd",
      "metadata": {
        "id": "e331cbbd"
      },
      "source": [
        "# Build Dictionary\n",
        " - The model cannot perform calculations directly with plain text.\n",
        " - Convert all text (numbers/symbols) into numerical representations.\n",
        " - Special tokens\n",
        "    - '&lt;pad&gt;'\n",
        "        - Each sentence within a batch may have different lengths.\n",
        "        - The length is padded with '&lt;pad&gt;' to match the longest sentence in the batch.\n",
        "    - '&lt;eos&gt;'\n",
        "        - Specifies the end of the generated sequence.\n",
        "        - Without '&lt;eos&gt;', the model will not know when to stop generating.\n"
      ]
    },
    {
      "cell_type": "code",
      "execution_count": null,
      "id": "f4cf6810",
      "metadata": {
        "id": "f4cf6810"
      },
      "outputs": [],
      "source": [
        "# Initialize dictionaries with special tokens\n",
        "char_to_id = {'<pad>': 0, '<eos>': 1}\n",
        "id_to_char = {0: '<pad>', 1: '<eos>'}\n",
        "vocab_idx = 2  # Start indexing from 2 since 0 and 1 are taken by special tokens"
      ]
    },
    {
      "cell_type": "code",
      "execution_count": null,
      "id": "45bd853d",
      "metadata": {
        "id": "45bd853d"
      },
      "outputs": [],
      "source": [
        "for equation in df_train['src']:\n",
        "    for char in equation:\n",
        "        if char not in char_to_id:\n",
        "            char_to_id[char] = vocab_idx\n",
        "            id_to_char[vocab_idx] = char\n",
        "            vocab_idx += 1"
      ]
    },
    {
      "cell_type": "code",
      "execution_count": null,
      "id": "4aaf70cc",
      "metadata": {
        "id": "4aaf70cc"
      },
      "outputs": [],
      "source": [
        "for result in df_train['tgt']:\n",
        "    for char in result:\n",
        "        if char not in char_to_id:\n",
        "            char_to_id[char] = vocab_idx\n",
        "            id_to_char[vocab_idx] = char\n",
        "            vocab_idx += 1"
      ]
    },
    {
      "cell_type": "code",
      "execution_count": null,
      "id": "1bd09e3e",
      "metadata": {
        "id": "1bd09e3e",
        "colab": {
          "base_uri": "https://localhost:8080/"
        },
        "outputId": "0013ae7e-efa4-4cec-c6c3-836c3ca434cc"
      },
      "outputs": [
        {
          "output_type": "stream",
          "name": "stdout",
          "text": [
            "Vocab size: 18\n"
          ]
        }
      ],
      "source": [
        "vocab_size = len(char_to_id)\n",
        "print('Vocab size: {}'.format(vocab_size))"
      ]
    },
    {
      "cell_type": "code",
      "execution_count": null,
      "id": "07ae136f",
      "metadata": {
        "id": "07ae136f",
        "colab": {
          "base_uri": "https://localhost:8080/"
        },
        "outputId": "05f0a044-d3b9-499a-9bb6-570a37849010"
      },
      "outputs": [
        {
          "output_type": "stream",
          "name": "stdout",
          "text": [
            "char_to_id: {'<pad>': 0, '<eos>': 1, '1': 2, '4': 3, '*': 4, '(': 5, '3': 6, '+': 7, '2': 8, '0': 9, ')': 10, '=': 11, '6': 12, '5': 13, '9': 14, '-': 15, '8': 16, '7': 17}\n",
            "id_to_char: {0: '<pad>', 1: '<eos>', 2: '1', 3: '4', 4: '*', 5: '(', 6: '3', 7: '+', 8: '2', 9: '0', 10: ')', 11: '=', 12: '6', 13: '5', 14: '9', 15: '-', 16: '8', 17: '7'}\n"
          ]
        }
      ],
      "source": [
        "#check dict\n",
        "print('char_to_id:', char_to_id)\n",
        "print('id_to_char:', id_to_char)"
      ]
    },
    {
      "cell_type": "markdown",
      "id": "43ae4295",
      "metadata": {
        "id": "43ae4295"
      },
      "source": [
        "# Data Preprocessing\n",
        " - The data is processed into the format required for the model's input and output.\n",
        " - Example: 1+2-3=0\n",
        "     - Model input: 1 + 2 - 3 = 0\n",
        "     - Model output: / / / / / 0 &lt;eos&gt;  (the '/' can be replaced with &lt;pad&gt;)\n",
        "     - The key for the model's output is that the model does not need to predict the next character of the previous part. What matters is that once the model sees '=', it should start generating the answer, which is '0'. After generating the answer, it should also generate&lt;eos&gt;\n"
      ]
    },
    {
      "cell_type": "code",
      "execution_count": null,
      "id": "2424ae9c",
      "metadata": {
        "id": "2424ae9c"
      },
      "outputs": [],
      "source": [
        "# Data Preprocessing\n",
        "def preprocess_data_for_model(df, char_to_id):\n",
        "    def encode_equation(equation, result):\n",
        "        if not equation.endswith('='):\n",
        "            equation += '='\n",
        "        combined = list(equation) + list(result) + ['<eos>']\n",
        "        combined_encoded = [char_to_id[char] for char in combined]\n",
        "        seq_len = len(combined_encoded)\n",
        "        return combined_encoded, seq_len\n",
        "\n",
        "    # Apply the encoding function to each row\n",
        "    df['combined_id_list'], df['seq_len'] = zip(*df.apply(lambda x: encode_equation(x['src'], x['tgt']), axis=1))\n",
        "    return df"
      ]
    },
    {
      "cell_type": "code",
      "execution_count": null,
      "id": "46b96648",
      "metadata": {
        "id": "46b96648",
        "colab": {
          "base_uri": "https://localhost:8080/"
        },
        "outputId": "5f18df3e-8b3f-4bdf-8ce5-939813d2f73e"
      },
      "outputs": [
        {
          "output_type": "stream",
          "name": "stdout",
          "text": [
            "   Unnamed: 0          src   tgt  len  \\\n",
            "0     2285313  14*(43+20)=   882   11   \n",
            "1      317061     (6+1)*5=    35    8   \n",
            "2      718770    13+32+29=    74    9   \n",
            "3      170195   31*(3-11)=  -248   10   \n",
            "4     2581417     24*49+1=  1177    8   \n",
            "\n",
            "                                    combined_id_list  seq_len  \n",
            "0  [2, 3, 4, 5, 3, 6, 7, 8, 9, 10, 11, 16, 16, 8, 1]       15  \n",
            "1             [5, 12, 7, 2, 10, 4, 13, 11, 6, 13, 1]       11  \n",
            "2            [2, 6, 7, 6, 8, 7, 8, 14, 11, 17, 3, 1]       12  \n",
            "3  [6, 2, 4, 5, 6, 15, 2, 2, 10, 11, 15, 8, 3, 16...       15  \n",
            "4        [8, 3, 4, 3, 14, 7, 2, 11, 2, 2, 17, 17, 1]       13  \n",
            "   Unnamed: 0          src  tgt  len  \\\n",
            "0     2573208    48+43+34=  125    9   \n",
            "1     1630340  30-(48+13)=  -31   11   \n",
            "2      549277  (21*31)+10=  661   11   \n",
            "3      133957     2-27-10=  -35    8   \n",
            "4     1279828  (15*20)+24=  324   11   \n",
            "\n",
            "                                    combined_id_list  seq_len  \n",
            "0         [3, 16, 7, 3, 6, 7, 6, 3, 11, 2, 8, 13, 1]       13  \n",
            "1  [6, 9, 15, 5, 3, 16, 7, 2, 6, 10, 11, 15, 6, 2...       15  \n",
            "2  [5, 8, 2, 4, 6, 2, 10, 7, 2, 9, 11, 12, 12, 2, 1]       15  \n",
            "3         [8, 15, 8, 17, 15, 2, 9, 11, 15, 6, 13, 1]       12  \n",
            "4   [5, 2, 13, 4, 8, 9, 10, 7, 8, 3, 11, 6, 8, 3, 1]       15  \n"
          ]
        }
      ],
      "source": [
        "df_train = preprocess_data_for_model(df_train, char_to_id)\n",
        "df_eval = preprocess_data_for_model(df_eval, char_to_id)\n",
        "print(df_train.head())\n",
        "print(df_eval.head())"
      ]
    },
    {
      "cell_type": "markdown",
      "id": "96e3ea3f",
      "metadata": {
        "id": "96e3ea3f"
      },
      "source": [
        "# Hyper Parameters\n",
        "\n",
        "|Hyperparameter|Meaning|Value|\n",
        "|-|-|-|\n",
        "|`batch_size`|Number of data samples in a single batch|64|\n",
        "|`epochs`|Total number of epochs to train|10|\n",
        "|`embed_dim`|Dimension of the word embeddings|256|\n",
        "|`hidden_dim`|Dimension of the hidden state in each timestep of the LSTM|256|\n",
        "|`lr`|Learning Rate|0.001|\n",
        "|`grad_clip`|To prevent gradient explosion in RNNs, restrict the gradient range|1|\n"
      ]
    },
    {
      "cell_type": "code",
      "execution_count": null,
      "id": "bb40754e",
      "metadata": {
        "id": "bb40754e"
      },
      "outputs": [],
      "source": [
        "batch_size = 64\n",
        "epochs = 4\n",
        "embed_dim = 256\n",
        "hidden_dim = 256\n",
        "lr = 0.001\n",
        "grad_clip = 1"
      ]
    },
    {
      "cell_type": "markdown",
      "id": "c3db7fc2",
      "metadata": {
        "id": "c3db7fc2"
      },
      "source": [
        "# Data Batching\n",
        "- Use `torch.utils.data.Dataset` to create a data generation tool called  `dataset`.\n",
        "- The, use `torch.utils.data.DataLoader` to randomly sample from the `dataset` and group the samples into batches.\n"
      ]
    },
    {
      "cell_type": "code",
      "execution_count": null,
      "id": "84189b1f",
      "metadata": {
        "id": "84189b1f"
      },
      "outputs": [],
      "source": [
        "class Dataset(torch.utils.data.Dataset):\n",
        "    def __init__(self, df):\n",
        "        self.combined_id_list = df['combined_id_list'].tolist()\n",
        "        self.seq_len = df['seq_len'].tolist()\n",
        "\n",
        "    def __len__(self):\n",
        "        return len(self.combined_id_list)\n",
        "\n",
        "    def __getitem__(self, idx):\n",
        "        x = self.combined_id_list[idx]\n",
        "        seq_len = self.seq_len[idx]\n",
        "        return x, seq_len"
      ]
    },
    {
      "cell_type": "code",
      "execution_count": null,
      "id": "be757873",
      "metadata": {
        "id": "be757873"
      },
      "outputs": [],
      "source": [
        "# collate function, used to build dataloader\n",
        "def collate_fn(batch):\n",
        "    batch_x, batch_seq_len = zip(*batch)\n",
        "    batch_seq_len = torch.tensor(batch_seq_len, dtype=torch.long)\n",
        "    batch_x_padded = torch.nn.utils.rnn.pad_sequence(\n",
        "        [torch.tensor(x, dtype=torch.long) for x in batch_x],\n",
        "        batch_first=True,\n",
        "        padding_value=char_to_id['<pad>']\n",
        "    )\n",
        "    return batch_x_padded, batch_seq_len"
      ]
    },
    {
      "cell_type": "code",
      "execution_count": null,
      "id": "1267ca2e",
      "metadata": {
        "id": "1267ca2e"
      },
      "outputs": [],
      "source": [
        "# Create Dataset instances for train and eval datasets\n",
        "ds_train = Dataset(df_train)\n",
        "ds_eval = Dataset(df_eval)"
      ]
    },
    {
      "cell_type": "code",
      "execution_count": null,
      "id": "1fef5570",
      "metadata": {
        "id": "1fef5570"
      },
      "outputs": [],
      "source": [
        "from torch.utils.data import DataLoader"
      ]
    },
    {
      "cell_type": "code",
      "execution_count": null,
      "id": "a629ea29",
      "metadata": {
        "id": "a629ea29"
      },
      "outputs": [],
      "source": [
        "batch_size = 64  # Adjust as needed"
      ]
    },
    {
      "cell_type": "code",
      "execution_count": null,
      "id": "42e9ed98",
      "metadata": {
        "id": "42e9ed98"
      },
      "outputs": [],
      "source": [
        "# Create datasets\n",
        "ds_train = Dataset(df_train)\n",
        "ds_eval = Dataset(df_eval)"
      ]
    },
    {
      "cell_type": "code",
      "execution_count": null,
      "id": "4bd1079d",
      "metadata": {
        "id": "4bd1079d"
      },
      "outputs": [],
      "source": [
        "# Create data loaders\n",
        "dl_train = DataLoader(dataset=ds_train, batch_size=batch_size, shuffle=True, collate_fn=collate_fn)\n",
        "dl_eval = DataLoader(dataset=ds_eval, batch_size=batch_size, shuffle=False, collate_fn=collate_fn)"
      ]
    },
    {
      "cell_type": "markdown",
      "id": "0987c960",
      "metadata": {
        "id": "0987c960"
      },
      "source": [
        "# Model Design\n",
        "\n",
        "## Execution Flow\n",
        "1. Convert all characters in the sentence into embeddings.\n",
        "2. Pass the embeddings through an LSTM sequentially.\n",
        "3. The output of the LSTM is passed into another LSTM, and additional layers can be added.\n",
        "4. The output from all time steps of the final LSTM is passed through a Fully Connected layer.\n",
        "5. The character corresponding to the maximum value across all output dimensions is selected as the next character.\n",
        "\n",
        "## Loss Function\n",
        "Since this is a classification task, Cross Entropy is used as the loss function.\n",
        "\n",
        "## Gradient Update\n",
        "Adam algorithm is used for gradient updates."
      ]
    },
    {
      "cell_type": "code",
      "execution_count": null,
      "id": "7c5ba715",
      "metadata": {
        "id": "7c5ba715"
      },
      "outputs": [],
      "source": [
        "class CharRNN(torch.nn.Module):\n",
        "    def __init__(self, vocab_size, embed_dim, hidden_dim):\n",
        "        super(CharRNN, self).__init__()\n",
        "\n",
        "        self.embedding = torch.nn.Embedding(num_embeddings=vocab_size,\n",
        "                                            embedding_dim=embed_dim,\n",
        "                                            padding_idx=char_to_id['<pad>'])\n",
        "\n",
        "        self.rnn_layer1 = torch.nn.LSTM(input_size=embed_dim,\n",
        "                                        hidden_size=hidden_dim,\n",
        "                                        batch_first=True)\n",
        "\n",
        "        self.rnn_layer2 = torch.nn.LSTM(input_size=hidden_dim,\n",
        "                                        hidden_size=hidden_dim,\n",
        "                                        batch_first=True)\n",
        "\n",
        "        self.linear = torch.nn.Sequential(torch.nn.Linear(in_features=hidden_dim,\n",
        "                                                          out_features=hidden_dim),\n",
        "                                          torch.nn.ReLU(),\n",
        "                                          torch.nn.Linear(in_features=hidden_dim,\n",
        "                                                          out_features=vocab_size))\n",
        "\n",
        "    def forward(self, batch_x, batch_x_lens):\n",
        "        return self.encoder(batch_x, batch_x_lens)\n",
        "\n",
        "    # The forward pass of the model\n",
        "    def encoder(self, batch_x, batch_x_lens):\n",
        "        batch_x = self.embedding(batch_x)\n",
        "\n",
        "        batch_x = torch.nn.utils.rnn.pack_padded_sequence(batch_x,\n",
        "                                                          batch_x_lens,\n",
        "                                                          batch_first=True,\n",
        "                                                          enforce_sorted=False)\n",
        "\n",
        "        batch_x, _ = self.rnn_layer1(batch_x)\n",
        "        batch_x, _ = self.rnn_layer2(batch_x)\n",
        "\n",
        "        batch_x, _ = torch.nn.utils.rnn.pad_packed_sequence(batch_x,\n",
        "                                                            batch_first=True)\n",
        "\n",
        "        batch_x = self.linear(batch_x)\n",
        "\n",
        "        return batch_x\n",
        "    #Assisted by ChatGPT\n",
        "    def generator(self, start_char, max_len=200):\n",
        "      self.eval()\n",
        "      with torch.no_grad():\n",
        "          # Convert input characters to IDs\n",
        "          char_list = [char_to_id.get(c, char_to_id['<pad>']) for c in start_char]\n",
        "          device = next(self.parameters()).device\n",
        "\n",
        "          # Prepare the input sequence and length\n",
        "          input_seq = torch.tensor([char_list], dtype=torch.long).to(device)\n",
        "          input_len = torch.tensor([len(char_list)], dtype=torch.long).to(\"cpu\")  # Ensure length is on CPU\n",
        "\n",
        "          # Encode the input\n",
        "          outputs = self.encoder(input_seq, input_len)\n",
        "          outputs = outputs[0, -1, :]  # Get the last time step output\n",
        "          next_char_id = torch.argmax(outputs, dim=-1).item()\n",
        "\n",
        "          # Initialize generated character list\n",
        "          generated_ids = char_list.copy()\n",
        "          generated_ids.append(next_char_id)\n",
        "\n",
        "          for _ in range(max_len):\n",
        "              # Update input sequence and length\n",
        "              input_seq = torch.tensor([generated_ids], dtype=torch.long).to(device)\n",
        "              input_len = torch.tensor([len(generated_ids)], dtype=torch.long).to(\"cpu\")  # Ensure length is on CPU\n",
        "\n",
        "              # Generate next character\n",
        "              outputs = self.encoder(input_seq, input_len)\n",
        "              outputs = outputs[0, -1, :]  # Get the last time step output\n",
        "              next_char_id = torch.argmax(outputs, dim=-1).item()\n",
        "\n",
        "              if next_char_id == char_to_id['<eos>']:\n",
        "                  break\n",
        "\n",
        "              generated_ids.append(next_char_id)\n",
        "\n",
        "          # Convert IDs back to characters\n",
        "          generated_chars = [id_to_char[id_] for id_ in generated_ids]\n",
        "          return generated_chars\n"
      ]
    },
    {
      "cell_type": "code",
      "execution_count": null,
      "id": "dce07b40",
      "metadata": {
        "id": "dce07b40",
        "colab": {
          "base_uri": "https://localhost:8080/"
        },
        "outputId": "a118a8c8-3c17-45ac-c0e7-94e22ac7afcb"
      },
      "outputs": [
        {
          "output_type": "execute_result",
          "data": {
            "text/plain": [
              "<torch._C.Generator at 0x7de0993ebd90>"
            ]
          },
          "metadata": {},
          "execution_count": 26
        }
      ],
      "source": [
        "torch.manual_seed(2)"
      ]
    },
    {
      "cell_type": "code",
      "execution_count": null,
      "id": "77824996",
      "metadata": {
        "id": "77824996"
      },
      "outputs": [],
      "source": [
        "device =  torch.device('cuda' if torch.cuda.is_available() else 'cpu')\n",
        "model = CharRNN(vocab_size,\n",
        "                embed_dim,\n",
        "                hidden_dim)"
      ]
    },
    {
      "cell_type": "code",
      "execution_count": null,
      "id": "199902ba",
      "metadata": {
        "id": "199902ba"
      },
      "outputs": [],
      "source": [
        "criterion = torch.nn.CrossEntropyLoss(ignore_index=char_to_id['<pad>'])\n",
        "optimizer = torch.optim.Adam(model.parameters(), lr=lr)"
      ]
    },
    {
      "cell_type": "markdown",
      "id": "c35ba1fe",
      "metadata": {
        "id": "c35ba1fe"
      },
      "source": [
        "# Training\n",
        "1. The outer `for` loop controls the `epoch`\n",
        "    1. The inner `for` loop uses `data_loader` to retrieve batches.\n",
        "        1. Pass the batch to the `model` for training.\n",
        "        2. Compare the predicted results `batch_pred_y` with the true labels `batch_y` using Cross Entropy to calculate the loss `loss`\n",
        "        3. Use `loss.backward` to automatically compute the gradients.\n",
        "        4. Use `torch.nn.utils.clip_grad_value_` to limit the gradient values between `-grad_clip` &lt; and &lt; `grad_clip`.\n",
        "        5. Use `optimizer.step()` to update the model (backpropagation).\n",
        "2.  After every `1000` batches, output the current loss to monitor whether it is converging."
      ]
    },
    {
      "cell_type": "code",
      "execution_count": null,
      "id": "07cbe979",
      "metadata": {
        "id": "07cbe979"
      },
      "outputs": [],
      "source": [
        "from tqdm import tqdm"
      ]
    },
    {
      "cell_type": "code",
      "execution_count": null,
      "id": "490295b6",
      "metadata": {
        "id": "490295b6"
      },
      "outputs": [],
      "source": [
        "#Assisted by ChatGPT\n",
        "model.train()\n",
        "i = 0\n",
        "equal_token_id = char_to_id['=']\n",
        "eos_token_id = char_to_id['<eos>']"
      ]
    },
    {
      "cell_type": "code",
      "execution_count": null,
      "id": "1c73c5e1",
      "metadata": {
        "id": "1c73c5e1",
        "colab": {
          "base_uri": "https://localhost:8080/"
        },
        "outputId": "f276df16-ee14-45d7-9c83-2926249ebe06"
      },
      "outputs": [
        {
          "output_type": "stream",
          "name": "stderr",
          "text": [
            "Train epoch 1:  14%|█▎        | 5005/37020 [01:18<08:45, 60.94it/s, loss=0.662]"
          ]
        },
        {
          "output_type": "stream",
          "name": "stdout",
          "text": [
            "\n",
            "[Debug] Iteration 5000\n",
            "Current Loss: 0.6620\n",
            "Sample Predictions:\n",
            "Input: 1+1=\n",
            "Expected Output: 1+1=2\n",
            "Predicted Output: 1+1=3\n",
            "\n",
            "Input: 12+34=\n",
            "Expected Output: 12+34=46\n",
            "Predicted Output: 12+34=48\n",
            "\n",
            "Input: (7*8)+9=\n",
            "Expected Output: (7*8)+9=65\n",
            "Predicted Output: (7*8)+9=75\n",
            "\n"
          ]
        },
        {
          "output_type": "stream",
          "name": "stderr",
          "text": [
            "Train epoch 1:  27%|██▋       | 10009/37020 [02:36<07:08, 63.01it/s, loss=0.579]"
          ]
        },
        {
          "output_type": "stream",
          "name": "stdout",
          "text": [
            "\n",
            "[Debug] Iteration 10000\n",
            "Current Loss: 0.5795\n",
            "Sample Predictions:\n",
            "Input: 1+1=\n",
            "Expected Output: 1+1=2\n",
            "Predicted Output: 1+1=3\n",
            "\n",
            "Input: 12+34=\n",
            "Expected Output: 12+34=46\n",
            "Predicted Output: 12+34=46\n",
            "\n",
            "Input: (7*8)+9=\n",
            "Expected Output: (7*8)+9=65\n",
            "Predicted Output: (7*8)+9=65\n",
            "\n"
          ]
        },
        {
          "output_type": "stream",
          "name": "stderr",
          "text": [
            "Train epoch 1:  41%|████      | 15007/37020 [03:55<06:00, 61.10it/s, loss=0.422]"
          ]
        },
        {
          "output_type": "stream",
          "name": "stdout",
          "text": [
            "\n",
            "[Debug] Iteration 15000\n",
            "Current Loss: 0.4223\n",
            "Sample Predictions:\n",
            "Input: 1+1=\n",
            "Expected Output: 1+1=2\n",
            "Predicted Output: 1+1=2\n",
            "\n",
            "Input: 12+34=\n",
            "Expected Output: 12+34=46\n",
            "Predicted Output: 12+34=46\n",
            "\n",
            "Input: (7*8)+9=\n",
            "Expected Output: (7*8)+9=65\n",
            "Predicted Output: (7*8)+9=65\n",
            "\n"
          ]
        },
        {
          "output_type": "stream",
          "name": "stderr",
          "text": [
            "Train epoch 1:  54%|█████▍    | 20012/37020 [05:12<04:28, 63.41it/s, loss=0.371]"
          ]
        },
        {
          "output_type": "stream",
          "name": "stdout",
          "text": [
            "\n",
            "[Debug] Iteration 20000\n",
            "Current Loss: 0.3705\n",
            "Sample Predictions:\n",
            "Input: 1+1=\n",
            "Expected Output: 1+1=2\n",
            "Predicted Output: 1+1=2\n",
            "\n",
            "Input: 12+34=\n",
            "Expected Output: 12+34=46\n",
            "Predicted Output: 12+34=46\n",
            "\n",
            "Input: (7*8)+9=\n",
            "Expected Output: (7*8)+9=65\n",
            "Predicted Output: (7*8)+9=71\n",
            "\n"
          ]
        },
        {
          "output_type": "stream",
          "name": "stderr",
          "text": [
            "Train epoch 1:  68%|██████▊   | 25010/37020 [06:31<03:11, 62.58it/s, loss=0.4]"
          ]
        },
        {
          "output_type": "stream",
          "name": "stdout",
          "text": [
            "\n",
            "[Debug] Iteration 25000\n",
            "Current Loss: 0.3998\n",
            "Sample Predictions:\n",
            "Input: 1+1=\n",
            "Expected Output: 1+1=2\n",
            "Predicted Output: 1+1=3\n",
            "\n",
            "Input: 12+34=\n",
            "Expected Output: 12+34=46\n",
            "Predicted Output: 12+34=46\n",
            "\n",
            "Input: (7*8)+9=\n",
            "Expected Output: (7*8)+9=65\n",
            "Predicted Output: (7*8)+9=73\n",
            "\n"
          ]
        },
        {
          "output_type": "stream",
          "name": "stderr",
          "text": [
            "Train epoch 1:  81%|████████  | 30007/37020 [07:49<01:56, 60.35it/s, loss=0.332]"
          ]
        },
        {
          "output_type": "stream",
          "name": "stdout",
          "text": [
            "\n",
            "[Debug] Iteration 30000\n",
            "Current Loss: 0.3324\n",
            "Sample Predictions:\n",
            "Input: 1+1=\n",
            "Expected Output: 1+1=2\n",
            "Predicted Output: 1+1=2\n",
            "\n",
            "Input: 12+34=\n",
            "Expected Output: 12+34=46\n",
            "Predicted Output: 12+34=46\n",
            "\n",
            "Input: (7*8)+9=\n",
            "Expected Output: (7*8)+9=65\n",
            "Predicted Output: (7*8)+9=75\n",
            "\n"
          ]
        },
        {
          "output_type": "stream",
          "name": "stderr",
          "text": [
            "Train epoch 1:  95%|█████████▍| 35012/37020 [09:07<00:31, 63.32it/s, loss=0.351]"
          ]
        },
        {
          "output_type": "stream",
          "name": "stdout",
          "text": [
            "\n",
            "[Debug] Iteration 35000\n",
            "Current Loss: 0.3509\n",
            "Sample Predictions:\n",
            "Input: 1+1=\n",
            "Expected Output: 1+1=2\n",
            "Predicted Output: 1+1=3\n",
            "\n",
            "Input: 12+34=\n",
            "Expected Output: 12+34=46\n",
            "Predicted Output: 12+34=46\n",
            "\n",
            "Input: (7*8)+9=\n",
            "Expected Output: (7*8)+9=65\n",
            "Predicted Output: (7*8)+9=63\n",
            "\n"
          ]
        },
        {
          "output_type": "stream",
          "name": "stderr",
          "text": [
            "Train epoch 1: 100%|██████████| 37020/37020 [09:38<00:00, 64.01it/s, loss=0.307]\n"
          ]
        },
        {
          "output_type": "stream",
          "name": "stdout",
          "text": [
            "Epoch 1 Training Loss: 0.4916629414898779\n",
            "Validation EM accuracy: 0.5833\n"
          ]
        },
        {
          "output_type": "stream",
          "name": "stderr",
          "text": [
            "Train epoch 2:   8%|▊         | 2990/37020 [00:46<09:23, 60.37it/s, loss=0.327]"
          ]
        },
        {
          "output_type": "stream",
          "name": "stdout",
          "text": [
            "\n",
            "[Debug] Iteration 40000\n",
            "Current Loss: 0.3266\n",
            "Sample Predictions:\n",
            "Input: 1+1=\n",
            "Expected Output: 1+1=2\n",
            "Predicted Output: 1+1=2\n",
            "\n",
            "Input: 12+34=\n",
            "Expected Output: 12+34=46\n",
            "Predicted Output: 12+34=46\n",
            "\n",
            "Input: (7*8)+9=\n",
            "Expected Output: (7*8)+9=65\n",
            "Predicted Output: (7*8)+9=63\n",
            "\n"
          ]
        },
        {
          "output_type": "stream",
          "name": "stderr",
          "text": [
            "Train epoch 2:  22%|██▏       | 7988/37020 [02:03<07:38, 63.26it/s, loss=0.301]"
          ]
        },
        {
          "output_type": "stream",
          "name": "stdout",
          "text": [
            "\n",
            "[Debug] Iteration 45000\n",
            "Current Loss: 0.3008\n",
            "Sample Predictions:\n",
            "Input: 1+1=\n",
            "Expected Output: 1+1=2\n",
            "Predicted Output: 1+1=2\n",
            "\n",
            "Input: 12+34=\n",
            "Expected Output: 12+34=46\n",
            "Predicted Output: 12+34=46\n",
            "\n",
            "Input: (7*8)+9=\n",
            "Expected Output: (7*8)+9=65\n",
            "Predicted Output: (7*8)+9=63\n",
            "\n"
          ]
        },
        {
          "output_type": "stream",
          "name": "stderr",
          "text": [
            "Train epoch 2:  35%|███▌      | 12986/37020 [03:21<06:32, 61.19it/s, loss=0.257]"
          ]
        },
        {
          "output_type": "stream",
          "name": "stdout",
          "text": [
            "\n",
            "[Debug] Iteration 50000\n",
            "Current Loss: 0.2571\n",
            "Sample Predictions:\n",
            "Input: 1+1=\n",
            "Expected Output: 1+1=2\n",
            "Predicted Output: 1+1=2\n",
            "\n",
            "Input: 12+34=\n",
            "Expected Output: 12+34=46\n",
            "Predicted Output: 12+34=46\n",
            "\n",
            "Input: (7*8)+9=\n",
            "Expected Output: (7*8)+9=65\n",
            "Predicted Output: (7*8)+9=63\n",
            "\n"
          ]
        },
        {
          "output_type": "stream",
          "name": "stderr",
          "text": [
            "Train epoch 2:  49%|████▊     | 17991/37020 [04:38<05:01, 63.06it/s, loss=0.288]"
          ]
        },
        {
          "output_type": "stream",
          "name": "stdout",
          "text": [
            "\n",
            "[Debug] Iteration 55000\n",
            "Current Loss: 0.2885\n",
            "Sample Predictions:\n",
            "Input: 1+1=\n",
            "Expected Output: 1+1=2\n",
            "Predicted Output: 1+1=2\n",
            "\n",
            "Input: 12+34=\n",
            "Expected Output: 12+34=46\n",
            "Predicted Output: 12+34=46\n",
            "\n",
            "Input: (7*8)+9=\n",
            "Expected Output: (7*8)+9=65\n",
            "Predicted Output: (7*8)+9=65\n",
            "\n"
          ]
        },
        {
          "output_type": "stream",
          "name": "stderr",
          "text": [
            "Train epoch 2:  62%|██████▏   | 22989/37020 [05:56<03:43, 62.85it/s, loss=0.298]"
          ]
        },
        {
          "output_type": "stream",
          "name": "stdout",
          "text": [
            "\n",
            "[Debug] Iteration 60000\n",
            "Current Loss: 0.2976\n",
            "Sample Predictions:\n",
            "Input: 1+1=\n",
            "Expected Output: 1+1=2\n",
            "Predicted Output: 1+1=2\n",
            "\n",
            "Input: 12+34=\n",
            "Expected Output: 12+34=46\n",
            "Predicted Output: 12+34=46\n",
            "\n",
            "Input: (7*8)+9=\n",
            "Expected Output: (7*8)+9=65\n",
            "Predicted Output: (7*8)+9=63\n",
            "\n"
          ]
        },
        {
          "output_type": "stream",
          "name": "stderr",
          "text": [
            "Train epoch 2:  76%|███████▌  | 27992/37020 [07:13<02:23, 62.97it/s, loss=0.253]"
          ]
        },
        {
          "output_type": "stream",
          "name": "stdout",
          "text": [
            "\n",
            "[Debug] Iteration 65000\n",
            "Current Loss: 0.2530\n",
            "Sample Predictions:\n",
            "Input: 1+1=\n",
            "Expected Output: 1+1=2\n",
            "Predicted Output: 1+1=2\n",
            "\n",
            "Input: 12+34=\n",
            "Expected Output: 12+34=46\n",
            "Predicted Output: 12+34=46\n",
            "\n",
            "Input: (7*8)+9=\n",
            "Expected Output: (7*8)+9=65\n",
            "Predicted Output: (7*8)+9=63\n",
            "\n"
          ]
        },
        {
          "output_type": "stream",
          "name": "stderr",
          "text": [
            "Train epoch 2:  89%|████████▉ | 32990/37020 [08:30<01:04, 62.66it/s, loss=0.177]"
          ]
        },
        {
          "output_type": "stream",
          "name": "stdout",
          "text": [
            "\n",
            "[Debug] Iteration 70000\n",
            "Current Loss: 0.1772\n",
            "Sample Predictions:\n",
            "Input: 1+1=\n",
            "Expected Output: 1+1=2\n",
            "Predicted Output: 1+1=2\n",
            "\n",
            "Input: 12+34=\n",
            "Expected Output: 12+34=46\n",
            "Predicted Output: 12+34=46\n",
            "\n",
            "Input: (7*8)+9=\n",
            "Expected Output: (7*8)+9=65\n",
            "Predicted Output: (7*8)+9=63\n",
            "\n"
          ]
        },
        {
          "output_type": "stream",
          "name": "stderr",
          "text": [
            "Train epoch 2: 100%|██████████| 37020/37020 [09:33<00:00, 64.52it/s, loss=0.24]\n"
          ]
        },
        {
          "output_type": "stream",
          "name": "stdout",
          "text": [
            "Epoch 2 Training Loss: 0.2688439503919911\n",
            "Validation EM accuracy: 0.6852\n"
          ]
        },
        {
          "output_type": "stream",
          "name": "stderr",
          "text": [
            "Train epoch 3:   3%|▎         | 967/37020 [00:15<09:25, 63.79it/s, loss=0.255]"
          ]
        },
        {
          "output_type": "stream",
          "name": "stdout",
          "text": [
            "\n",
            "[Debug] Iteration 75000\n",
            "Current Loss: 0.2555\n",
            "Sample Predictions:\n",
            "Input: 1+1=\n",
            "Expected Output: 1+1=2\n",
            "Predicted Output: 1+1=2\n",
            "\n",
            "Input: 12+34=\n",
            "Expected Output: 12+34=46\n",
            "Predicted Output: 12+34=46\n",
            "\n",
            "Input: (7*8)+9=\n",
            "Expected Output: (7*8)+9=65\n",
            "Predicted Output: (7*8)+9=65\n",
            "\n"
          ]
        },
        {
          "output_type": "stream",
          "name": "stderr",
          "text": [
            "Train epoch 3:  16%|█▌        | 5965/37020 [01:32<08:13, 62.97it/s, loss=0.186]"
          ]
        },
        {
          "output_type": "stream",
          "name": "stdout",
          "text": [
            "\n",
            "[Debug] Iteration 80000\n",
            "Current Loss: 0.1860\n",
            "Sample Predictions:\n",
            "Input: 1+1=\n",
            "Expected Output: 1+1=2\n",
            "Predicted Output: 1+1=2\n",
            "\n",
            "Input: 12+34=\n",
            "Expected Output: 12+34=46\n",
            "Predicted Output: 12+34=46\n",
            "\n",
            "Input: (7*8)+9=\n",
            "Expected Output: (7*8)+9=65\n",
            "Predicted Output: (7*8)+9=65\n",
            "\n"
          ]
        },
        {
          "output_type": "stream",
          "name": "stderr",
          "text": [
            "Train epoch 3:  30%|██▉       | 10970/37020 [02:50<07:05, 61.22it/s, loss=0.174]"
          ]
        },
        {
          "output_type": "stream",
          "name": "stdout",
          "text": [
            "\n",
            "[Debug] Iteration 85000\n",
            "Current Loss: 0.1735\n",
            "Sample Predictions:\n",
            "Input: 1+1=\n",
            "Expected Output: 1+1=2\n",
            "Predicted Output: 1+1=2\n",
            "\n",
            "Input: 12+34=\n",
            "Expected Output: 12+34=46\n",
            "Predicted Output: 12+34=46\n",
            "\n",
            "Input: (7*8)+9=\n",
            "Expected Output: (7*8)+9=65\n",
            "Predicted Output: (7*8)+9=65\n",
            "\n"
          ]
        },
        {
          "output_type": "stream",
          "name": "stderr",
          "text": [
            "Train epoch 3:  43%|████▎     | 15967/37020 [04:08<05:37, 62.32it/s, loss=0.24]"
          ]
        },
        {
          "output_type": "stream",
          "name": "stdout",
          "text": [
            "\n",
            "[Debug] Iteration 90000\n",
            "Current Loss: 0.2402\n",
            "Sample Predictions:\n",
            "Input: 1+1=\n",
            "Expected Output: 1+1=2\n",
            "Predicted Output: 1+1=2\n",
            "\n",
            "Input: 12+34=\n",
            "Expected Output: 12+34=46\n",
            "Predicted Output: 12+34=46\n",
            "\n",
            "Input: (7*8)+9=\n",
            "Expected Output: (7*8)+9=65\n",
            "Predicted Output: (7*8)+9=65\n",
            "\n"
          ]
        },
        {
          "output_type": "stream",
          "name": "stderr",
          "text": [
            "Train epoch 3:  57%|█████▋    | 20965/37020 [05:26<04:20, 61.61it/s, loss=0.212]"
          ]
        },
        {
          "output_type": "stream",
          "name": "stdout",
          "text": [
            "\n",
            "[Debug] Iteration 95000\n",
            "Current Loss: 0.2123\n",
            "Sample Predictions:\n",
            "Input: 1+1=\n",
            "Expected Output: 1+1=2\n",
            "Predicted Output: 1+1=2\n",
            "\n",
            "Input: 12+34=\n",
            "Expected Output: 12+34=46\n",
            "Predicted Output: 12+34=46\n",
            "\n",
            "Input: (7*8)+9=\n",
            "Expected Output: (7*8)+9=65\n",
            "Predicted Output: (7*8)+9=65\n",
            "\n"
          ]
        },
        {
          "output_type": "stream",
          "name": "stderr",
          "text": [
            "Train epoch 3:  70%|███████   | 25970/37020 [06:44<02:58, 61.93it/s, loss=0.269]"
          ]
        },
        {
          "output_type": "stream",
          "name": "stdout",
          "text": [
            "\n",
            "[Debug] Iteration 100000\n",
            "Current Loss: 0.2692\n",
            "Sample Predictions:\n",
            "Input: 1+1=\n",
            "Expected Output: 1+1=2\n",
            "Predicted Output: 1+1=2\n",
            "\n",
            "Input: 12+34=\n",
            "Expected Output: 12+34=46\n",
            "Predicted Output: 12+34=46\n",
            "\n",
            "Input: (7*8)+9=\n",
            "Expected Output: (7*8)+9=65\n",
            "Predicted Output: (7*8)+9=65\n",
            "\n"
          ]
        },
        {
          "output_type": "stream",
          "name": "stderr",
          "text": [
            "Train epoch 3:  84%|████████▎ | 30968/37020 [08:01<01:35, 63.65it/s, loss=0.169]"
          ]
        },
        {
          "output_type": "stream",
          "name": "stdout",
          "text": [
            "\n",
            "[Debug] Iteration 105000\n",
            "Current Loss: 0.1691\n",
            "Sample Predictions:\n",
            "Input: 1+1=\n",
            "Expected Output: 1+1=2\n",
            "Predicted Output: 1+1=2\n",
            "\n",
            "Input: 12+34=\n",
            "Expected Output: 12+34=46\n",
            "Predicted Output: 12+34=46\n",
            "\n",
            "Input: (7*8)+9=\n",
            "Expected Output: (7*8)+9=65\n",
            "Predicted Output: (7*8)+9=65\n",
            "\n"
          ]
        },
        {
          "output_type": "stream",
          "name": "stderr",
          "text": [
            "Train epoch 3:  97%|█████████▋| 35966/37020 [09:19<00:17, 61.89it/s, loss=0.223]"
          ]
        },
        {
          "output_type": "stream",
          "name": "stdout",
          "text": [
            "\n",
            "[Debug] Iteration 110000\n",
            "Current Loss: 0.2226\n",
            "Sample Predictions:\n",
            "Input: 1+1=\n",
            "Expected Output: 1+1=2\n",
            "Predicted Output: 1+1=2\n",
            "\n",
            "Input: 12+34=\n",
            "Expected Output: 12+34=46\n",
            "Predicted Output: 12+34=46\n",
            "\n",
            "Input: (7*8)+9=\n",
            "Expected Output: (7*8)+9=65\n",
            "Predicted Output: (7*8)+9=65\n",
            "\n"
          ]
        },
        {
          "output_type": "stream",
          "name": "stderr",
          "text": [
            "Train epoch 3: 100%|██████████| 37020/37020 [09:35<00:00, 64.28it/s, loss=0.224]\n"
          ]
        },
        {
          "output_type": "stream",
          "name": "stdout",
          "text": [
            "Epoch 3 Training Loss: 0.21258604078398144\n",
            "Validation EM accuracy: 0.7347\n"
          ]
        },
        {
          "output_type": "stream",
          "name": "stderr",
          "text": [
            "Train epoch 4:  11%|█         | 3949/37020 [01:01<08:44, 63.10it/s, loss=0.183]"
          ]
        },
        {
          "output_type": "stream",
          "name": "stdout",
          "text": [
            "\n",
            "[Debug] Iteration 115000\n",
            "Current Loss: 0.1829\n",
            "Sample Predictions:\n",
            "Input: 1+1=\n",
            "Expected Output: 1+1=2\n",
            "Predicted Output: 1+1=2\n",
            "\n",
            "Input: 12+34=\n",
            "Expected Output: 12+34=46\n",
            "Predicted Output: 12+34=46\n",
            "\n",
            "Input: (7*8)+9=\n",
            "Expected Output: (7*8)+9=65\n",
            "Predicted Output: (7*8)+9=73\n",
            "\n"
          ]
        },
        {
          "output_type": "stream",
          "name": "stderr",
          "text": [
            "Train epoch 4:  24%|██▍       | 8947/37020 [02:19<07:25, 63.08it/s, loss=0.173]"
          ]
        },
        {
          "output_type": "stream",
          "name": "stdout",
          "text": [
            "\n",
            "[Debug] Iteration 120000\n",
            "Current Loss: 0.1728\n",
            "Sample Predictions:\n",
            "Input: 1+1=\n",
            "Expected Output: 1+1=2\n",
            "Predicted Output: 1+1=2\n",
            "\n",
            "Input: 12+34=\n",
            "Expected Output: 12+34=46\n",
            "Predicted Output: 12+34=46\n",
            "\n",
            "Input: (7*8)+9=\n",
            "Expected Output: (7*8)+9=65\n",
            "Predicted Output: (7*8)+9=65\n",
            "\n"
          ]
        },
        {
          "output_type": "stream",
          "name": "stderr",
          "text": [
            "Train epoch 4:  38%|███▊      | 13952/37020 [03:36<06:05, 63.08it/s, loss=0.224]"
          ]
        },
        {
          "output_type": "stream",
          "name": "stdout",
          "text": [
            "\n",
            "[Debug] Iteration 125000\n",
            "Current Loss: 0.2243\n",
            "Sample Predictions:\n",
            "Input: 1+1=\n",
            "Expected Output: 1+1=2\n",
            "Predicted Output: 1+1=4\n",
            "\n",
            "Input: 12+34=\n",
            "Expected Output: 12+34=46\n",
            "Predicted Output: 12+34=46\n",
            "\n",
            "Input: (7*8)+9=\n",
            "Expected Output: (7*8)+9=65\n",
            "Predicted Output: (7*8)+9=65\n",
            "\n"
          ]
        },
        {
          "output_type": "stream",
          "name": "stderr",
          "text": [
            "Train epoch 4:  51%|█████     | 18950/37020 [04:54<04:50, 62.26it/s, loss=0.165]"
          ]
        },
        {
          "output_type": "stream",
          "name": "stdout",
          "text": [
            "\n",
            "[Debug] Iteration 130000\n",
            "Current Loss: 0.1649\n",
            "Sample Predictions:\n",
            "Input: 1+1=\n",
            "Expected Output: 1+1=2\n",
            "Predicted Output: 1+1=2\n",
            "\n",
            "Input: 12+34=\n",
            "Expected Output: 12+34=46\n",
            "Predicted Output: 12+34=46\n",
            "\n",
            "Input: (7*8)+9=\n",
            "Expected Output: (7*8)+9=65\n",
            "Predicted Output: (7*8)+9=65\n",
            "\n"
          ]
        },
        {
          "output_type": "stream",
          "name": "stderr",
          "text": [
            "Train epoch 4:  65%|██████▍   | 23948/37020 [06:11<03:24, 63.95it/s, loss=0.152]"
          ]
        },
        {
          "output_type": "stream",
          "name": "stdout",
          "text": [
            "\n",
            "[Debug] Iteration 135000\n",
            "Current Loss: 0.1515\n",
            "Sample Predictions:\n",
            "Input: 1+1=\n",
            "Expected Output: 1+1=2\n",
            "Predicted Output: 1+1=2\n",
            "\n",
            "Input: 12+34=\n",
            "Expected Output: 12+34=46\n",
            "Predicted Output: 12+34=46\n",
            "\n",
            "Input: (7*8)+9=\n",
            "Expected Output: (7*8)+9=65\n",
            "Predicted Output: (7*8)+9=65\n",
            "\n"
          ]
        },
        {
          "output_type": "stream",
          "name": "stderr",
          "text": [
            "Train epoch 4:  78%|███████▊  | 28946/37020 [07:29<02:11, 61.36it/s, loss=0.149]"
          ]
        },
        {
          "output_type": "stream",
          "name": "stdout",
          "text": [
            "\n",
            "[Debug] Iteration 140000\n",
            "Current Loss: 0.1492\n",
            "Sample Predictions:\n",
            "Input: 1+1=\n",
            "Expected Output: 1+1=2\n",
            "Predicted Output: 1+1=4\n",
            "\n",
            "Input: 12+34=\n",
            "Expected Output: 12+34=46\n",
            "Predicted Output: 12+34=46\n",
            "\n",
            "Input: (7*8)+9=\n",
            "Expected Output: (7*8)+9=65\n",
            "Predicted Output: (7*8)+9=65\n",
            "\n"
          ]
        },
        {
          "output_type": "stream",
          "name": "stderr",
          "text": [
            "Train epoch 4:  92%|█████████▏| 33951/37020 [08:46<00:48, 63.01it/s, loss=0.143]"
          ]
        },
        {
          "output_type": "stream",
          "name": "stdout",
          "text": [
            "\n",
            "[Debug] Iteration 145000\n",
            "Current Loss: 0.1432\n",
            "Sample Predictions:\n",
            "Input: 1+1=\n",
            "Expected Output: 1+1=2\n",
            "Predicted Output: 1+1=4\n",
            "\n",
            "Input: 12+34=\n",
            "Expected Output: 12+34=46\n",
            "Predicted Output: 12+34=46\n",
            "\n",
            "Input: (7*8)+9=\n",
            "Expected Output: (7*8)+9=65\n",
            "Predicted Output: (7*8)+9=73\n",
            "\n"
          ]
        },
        {
          "output_type": "stream",
          "name": "stderr",
          "text": [
            "Train epoch 4: 100%|██████████| 37020/37020 [09:34<00:00, 64.43it/s, loss=0.209]\n"
          ]
        },
        {
          "output_type": "stream",
          "name": "stdout",
          "text": [
            "Epoch 4 Training Loss: 0.17940179156124397\n",
            "Validation EM accuracy: 0.7531\n"
          ]
        },
        {
          "output_type": "stream",
          "name": "stderr",
          "text": [
            "Train epoch 5:   5%|▌         | 1926/37020 [00:29<09:22, 62.41it/s, loss=0.168]"
          ]
        },
        {
          "output_type": "stream",
          "name": "stdout",
          "text": [
            "\n",
            "[Debug] Iteration 150000\n",
            "Current Loss: 0.1677\n",
            "Sample Predictions:\n",
            "Input: 1+1=\n",
            "Expected Output: 1+1=2\n",
            "Predicted Output: 1+1=2\n",
            "\n",
            "Input: 12+34=\n",
            "Expected Output: 12+34=46\n",
            "Predicted Output: 12+34=46\n",
            "\n",
            "Input: (7*8)+9=\n",
            "Expected Output: (7*8)+9=65\n",
            "Predicted Output: (7*8)+9=73\n",
            "\n"
          ]
        },
        {
          "output_type": "stream",
          "name": "stderr",
          "text": [
            "Train epoch 5:  19%|█▊        | 6931/37020 [01:47<08:08, 61.56it/s, loss=0.0722]"
          ]
        },
        {
          "output_type": "stream",
          "name": "stdout",
          "text": [
            "\n",
            "[Debug] Iteration 155000\n",
            "Current Loss: 0.0722\n",
            "Sample Predictions:\n",
            "Input: 1+1=\n",
            "Expected Output: 1+1=2\n",
            "Predicted Output: 1+1=2\n",
            "\n",
            "Input: 12+34=\n",
            "Expected Output: 12+34=46\n",
            "Predicted Output: 12+34=46\n",
            "\n",
            "Input: (7*8)+9=\n",
            "Expected Output: (7*8)+9=65\n",
            "Predicted Output: (7*8)+9=73\n",
            "\n"
          ]
        },
        {
          "output_type": "stream",
          "name": "stderr",
          "text": [
            "Train epoch 5:  32%|███▏      | 11928/37020 [03:05<06:38, 62.90it/s, loss=0.132]"
          ]
        },
        {
          "output_type": "stream",
          "name": "stdout",
          "text": [
            "\n",
            "[Debug] Iteration 160000\n",
            "Current Loss: 0.1324\n",
            "Sample Predictions:\n",
            "Input: 1+1=\n",
            "Expected Output: 1+1=2\n",
            "Predicted Output: 1+1=2\n",
            "\n",
            "Input: 12+34=\n",
            "Expected Output: 12+34=46\n",
            "Predicted Output: 12+34=46\n",
            "\n",
            "Input: (7*8)+9=\n",
            "Expected Output: (7*8)+9=65\n",
            "Predicted Output: (7*8)+9=65\n",
            "\n"
          ]
        },
        {
          "output_type": "stream",
          "name": "stderr",
          "text": [
            "Train epoch 5:  46%|████▌     | 16926/37020 [04:23<05:29, 60.97it/s, loss=0.117]"
          ]
        },
        {
          "output_type": "stream",
          "name": "stdout",
          "text": [
            "\n",
            "[Debug] Iteration 165000\n",
            "Current Loss: 0.1165\n",
            "Sample Predictions:\n",
            "Input: 1+1=\n",
            "Expected Output: 1+1=2\n",
            "Predicted Output: 1+1=2\n",
            "\n",
            "Input: 12+34=\n",
            "Expected Output: 12+34=46\n",
            "Predicted Output: 12+34=46\n",
            "\n",
            "Input: (7*8)+9=\n",
            "Expected Output: (7*8)+9=65\n",
            "Predicted Output: (7*8)+9=65\n",
            "\n"
          ]
        },
        {
          "output_type": "stream",
          "name": "stderr",
          "text": [
            "Train epoch 5:  59%|█████▉    | 21931/37020 [05:41<04:08, 60.65it/s, loss=0.185]"
          ]
        },
        {
          "output_type": "stream",
          "name": "stdout",
          "text": [
            "\n",
            "[Debug] Iteration 170000\n",
            "Current Loss: 0.1848\n",
            "Sample Predictions:\n",
            "Input: 1+1=\n",
            "Expected Output: 1+1=2\n",
            "Predicted Output: 1+1=2\n",
            "\n",
            "Input: 12+34=\n",
            "Expected Output: 12+34=46\n",
            "Predicted Output: 12+34=46\n",
            "\n",
            "Input: (7*8)+9=\n",
            "Expected Output: (7*8)+9=65\n",
            "Predicted Output: (7*8)+9=65\n",
            "\n"
          ]
        },
        {
          "output_type": "stream",
          "name": "stderr",
          "text": [
            "Train epoch 5:  73%|███████▎  | 26929/37020 [06:59<02:39, 63.38it/s, loss=0.164]"
          ]
        },
        {
          "output_type": "stream",
          "name": "stdout",
          "text": [
            "\n",
            "[Debug] Iteration 175000\n",
            "Current Loss: 0.1636\n",
            "Sample Predictions:\n",
            "Input: 1+1=\n",
            "Expected Output: 1+1=2\n",
            "Predicted Output: 1+1=2\n",
            "\n",
            "Input: 12+34=\n",
            "Expected Output: 12+34=46\n",
            "Predicted Output: 12+34=46\n",
            "\n",
            "Input: (7*8)+9=\n",
            "Expected Output: (7*8)+9=65\n",
            "Predicted Output: (7*8)+9=65\n",
            "\n"
          ]
        },
        {
          "output_type": "stream",
          "name": "stderr",
          "text": [
            "Train epoch 5:  86%|████████▌ | 31927/37020 [08:16<01:22, 61.67it/s, loss=0.155]"
          ]
        },
        {
          "output_type": "stream",
          "name": "stdout",
          "text": [
            "\n",
            "[Debug] Iteration 180000\n",
            "Current Loss: 0.1548\n",
            "Sample Predictions:\n",
            "Input: 1+1=\n",
            "Expected Output: 1+1=2\n",
            "Predicted Output: 1+1=2\n",
            "\n",
            "Input: 12+34=\n",
            "Expected Output: 12+34=46\n",
            "Predicted Output: 12+34=46\n",
            "\n",
            "Input: (7*8)+9=\n",
            "Expected Output: (7*8)+9=65\n",
            "Predicted Output: (7*8)+9=65\n",
            "\n"
          ]
        },
        {
          "output_type": "stream",
          "name": "stderr",
          "text": [
            "Train epoch 5: 100%|█████████▉| 36932/37020 [09:34<00:01, 62.93it/s, loss=0.209]"
          ]
        },
        {
          "output_type": "stream",
          "name": "stdout",
          "text": [
            "\n",
            "[Debug] Iteration 185000\n",
            "Current Loss: 0.2090\n",
            "Sample Predictions:\n",
            "Input: 1+1=\n",
            "Expected Output: 1+1=2\n",
            "Predicted Output: 1+1=2\n",
            "\n",
            "Input: 12+34=\n",
            "Expected Output: 12+34=46\n",
            "Predicted Output: 12+34=46\n",
            "\n",
            "Input: (7*8)+9=\n",
            "Expected Output: (7*8)+9=65\n",
            "Predicted Output: (7*8)+9=71\n",
            "\n"
          ]
        },
        {
          "output_type": "stream",
          "name": "stderr",
          "text": [
            "Train epoch 5: 100%|██████████| 37020/37020 [09:36<00:00, 64.25it/s, loss=0.0706]\n"
          ]
        },
        {
          "output_type": "stream",
          "name": "stdout",
          "text": [
            "Epoch 5 Training Loss: 0.15543517129408194\n",
            "Validation EM accuracy: 0.8047\n"
          ]
        }
      ],
      "source": [
        "device = torch.device(\"cuda\" if torch.cuda.is_available() else \"cpu\")\n",
        "model = model.to(device)\n",
        "for epoch in range(1, epochs + 2):\n",
        "    bar = tqdm(dl_train, desc=f\"Train epoch {epoch}\")\n",
        "    total_loss = 0\n",
        "    for batch_x, batch_seq_len in bar:\n",
        "        batch_x = batch_x.to(device)\n",
        "        batch_seq_len = batch_seq_len.to(\"cpu\", torch.int64)\n",
        "        optimizer.zero_grad()\n",
        "\n",
        "        outputs = model(batch_x, batch_seq_len)\n",
        "\n",
        "        # Shift outputs and targets for teacher forcing\n",
        "        outputs = outputs[:, :-1, :]  # Exclude last time step\n",
        "        targets = batch_x[:, 1:]      # Exclude first character\n",
        "\n",
        "        batch_size, seq_len, vocab_size = outputs.shape\n",
        "\n",
        "        # Create a mask for target positions (positions after '=')\n",
        "        mask = torch.zeros_like(targets, dtype=torch.bool)\n",
        "        for idx in range(batch_size):\n",
        "            # Find position of '=' in batch_x\n",
        "            eq_positions = (batch_x[idx] == equal_token_id).nonzero(as_tuple=False)\n",
        "            if eq_positions.numel() == 0:\n",
        "                continue  # Skip if '=' not found\n",
        "            eq_pos = eq_positions[0].item()\n",
        "\n",
        "            start_pos = eq_pos\n",
        "            end_pos = batch_seq_len[idx] - 1  # Adjusted for shifted targets\n",
        "\n",
        "            if start_pos >= end_pos:\n",
        "                continue  # No target positions\n",
        "\n",
        "            mask[idx, start_pos:end_pos] = True\n",
        "\n",
        "        # Flatten outputs and targets\n",
        "        outputs_flat = outputs.contiguous().view(-1, vocab_size)\n",
        "        targets_flat = targets.contiguous().view(-1)\n",
        "        mask_flat = mask.view(-1)\n",
        "\n",
        "        # Apply mask\n",
        "        outputs_masked = outputs_flat[mask_flat]\n",
        "        targets_masked = targets_flat[mask_flat]\n",
        "\n",
        "        if outputs_masked.size(0) == 0:\n",
        "            continue  # Skip if no valid targets\n",
        "\n",
        "        # Compute loss\n",
        "        loss = criterion(outputs_masked, targets_masked)\n",
        "        loss.backward()\n",
        "\n",
        "        # Gradient clipping\n",
        "        torch.nn.utils.clip_grad_value_(model.parameters(), grad_clip)\n",
        "\n",
        "        # Update parameters\n",
        "        optimizer.step()\n",
        "\n",
        "        total_loss += loss.item()\n",
        "        i += 1  # Increment iteration counter\n",
        "        if i % 5000 == 0:\n",
        "            # Debugging outputs\n",
        "            print(f\"\\n[Debug] Iteration {i}\")\n",
        "            print(f\"Current Loss: {loss.item():.4f}\")\n",
        "\n",
        "            # Generate sample predictions\n",
        "            model.eval()\n",
        "            sample_inputs = ['1+1=', '12+34=', '(7*8)+9=']\n",
        "            print(\"Sample Predictions:\")\n",
        "            for expr in sample_inputs:\n",
        "                expected_output = expr + str(eval(expr[:-1]))\n",
        "                predicted_output = ''.join(model.generator(expr))\n",
        "                print(f\"Input: {expr}\")\n",
        "                print(f\"Expected Output: {expected_output}\")\n",
        "                print(f\"Predicted Output: {predicted_output}\\n\")\n",
        "            model.train()\n",
        "\n",
        "        # Update progress bar\n",
        "        if i % 50 == 0:\n",
        "            bar.set_postfix(loss=loss.item())\n",
        "\n",
        "    avg_loss = total_loss / len(dl_train)\n",
        "    print(f\"Epoch {epoch} Training Loss: {avg_loss}\")\n",
        "\n",
        "    # Evaluation\n",
        "    model.eval()\n",
        "    matched = 0\n",
        "    total = 0\n",
        "    with torch.no_grad():\n",
        "        for batch_x, batch_seq_len in dl_eval:\n",
        "            batch_x = batch_x.to(device)\n",
        "            batch_seq_len = batch_seq_len.to(\"cpu\", torch.int64)\n",
        "            outputs = model(batch_x, batch_seq_len)\n",
        "            preds = outputs.argmax(dim=2)\n",
        "\n",
        "            # Shift predictions and targets\n",
        "            preds = preds[:, :-1]\n",
        "            targets = batch_x[:, 1:]\n",
        "\n",
        "            batch_size = batch_x.size(0)\n",
        "\n",
        "            for idx in range(batch_size):\n",
        "                # Find position of '=' in batch_x\n",
        "                eq_positions = (batch_x[idx] == equal_token_id).nonzero(as_tuple=False)\n",
        "                if eq_positions.numel() == 0:\n",
        "                    continue  # Skip if '=' not found\n",
        "                eq_pos = eq_positions[0].item()\n",
        "\n",
        "                start_pos = eq_pos\n",
        "                end_pos = batch_seq_len[idx] - 1\n",
        "\n",
        "                if start_pos >= end_pos:\n",
        "                    continue  # No target positions\n",
        "\n",
        "                pred_seq = preds[idx, start_pos:end_pos]\n",
        "                true_seq = targets[idx, start_pos:end_pos]\n",
        "\n",
        "                if pred_seq.size(0) == 0:\n",
        "                    continue  # Skip if sequence length is zero\n",
        "\n",
        "                # Compare sequences\n",
        "                if torch.equal(pred_seq, true_seq):\n",
        "                    matched += 1\n",
        "                total += 1\n",
        "\n",
        "    accuracy = matched / total if total > 0 else 0\n",
        "    print(f\"Validation EM accuracy: {accuracy:.4f}\")\n",
        "\n",
        "    model.train()"
      ]
    },
    {
      "cell_type": "markdown",
      "id": "93w4P9Z7A9Fx",
      "metadata": {
        "id": "93w4P9Z7A9Fx"
      },
      "source": [
        "# Generation\n",
        "Use `model.generator` and provide an initial character to automatically generate a sequence."
      ]
    },
    {
      "cell_type": "code",
      "execution_count": null,
      "id": "fcfbc18a",
      "metadata": {
        "id": "fcfbc18a",
        "colab": {
          "base_uri": "https://localhost:8080/"
        },
        "outputId": "9cf641fd-ebb0-4024-aba2-04278b27e670"
      },
      "outputs": [
        {
          "output_type": "stream",
          "name": "stdout",
          "text": [
            "1+1=2\n"
          ]
        }
      ],
      "source": [
        "model = model.to(\"cpu\")\n",
        "print(\"\".join(model.generator('1+1=')))"
      ]
    },
    {
      "cell_type": "code",
      "execution_count": null,
      "id": "131d2c94",
      "metadata": {
        "id": "131d2c94",
        "colab": {
          "base_uri": "https://localhost:8080/"
        },
        "outputId": "8d0329f0-c072-4a62-b000-42c0aabcad6d"
      },
      "outputs": [
        {
          "output_type": "stream",
          "name": "stdout",
          "text": [
            "Input: 12+34= Output: 12+34=46\n",
            "Input: (7*8)+9= Output: (7*8)+9=71\n",
            "Input: 100:4= Output: 100<pad>4=18\n",
            "Input: 5*3= Output: 5*3=15\n"
          ]
        }
      ],
      "source": [
        "expressions = ['12+34=', '(7*8)+9=', '100:4=', '5*3=']\n",
        "for expr in expressions:\n",
        "    output = \"\".join(model.generator(expr))\n",
        "    print(f\"Input: {expr} Output: {output}\")"
      ]
    }
  ],
  "metadata": {
    "accelerator": "GPU",
    "colab": {
      "gpuType": "A100",
      "machine_shape": "hm",
      "provenance": []
    },
    "jupytext": {
      "cell_metadata_filter": "-all",
      "encoding": "# -*- coding: utf-8 -*-",
      "main_language": "python",
      "notebook_metadata_filter": "-all"
    },
    "kernelspec": {
      "display_name": "Python 3",
      "name": "python3"
    },
    "language_info": {
      "name": "python"
    }
  },
  "nbformat": 4,
  "nbformat_minor": 5
}